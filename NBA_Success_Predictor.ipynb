{
 "cells": [
  {
   "cell_type": "code",
   "execution_count": 1,
   "id": "19ed760a",
   "metadata": {},
   "outputs": [],
   "source": [
    "import numpy as np # linear algebra\n",
    "import pandas as pd # data processing, CSV file I/O (e.g. pd.read_csv)\n",
    "import matplotlib.pyplot as plt # MATLAB-like way of plotting\n",
    "\n",
    "# sklearn package for machine learning in python:\n",
    "from sklearn.model_selection import train_test_split \n",
    "from sklearn.linear_model import LogisticRegression\n",
    "from sklearn.naive_bayes import GaussianNB\n",
    "from sklearn.preprocessing import LabelEncoder\n",
    "from sklearn.neural_network import MLPClassifier \n",
    "from sklearn.metrics import accuracy_score\n",
    "from sklearn.preprocessing import StandardScaler"
   ]
  },
  {
   "cell_type": "code",
   "execution_count": 2,
   "id": "6d1d27d1",
   "metadata": {},
   "outputs": [],
   "source": [
    "df = pd.read_csv('nba_rookie_data.csv')#To read in the dataset"
   ]
  },
  {
   "cell_type": "code",
   "execution_count": 3,
   "id": "2b9860aa",
   "metadata": {},
   "outputs": [
    {
     "data": {
      "text/html": [
       "<div>\n",
       "<style scoped>\n",
       "    .dataframe tbody tr th:only-of-type {\n",
       "        vertical-align: middle;\n",
       "    }\n",
       "\n",
       "    .dataframe tbody tr th {\n",
       "        vertical-align: top;\n",
       "    }\n",
       "\n",
       "    .dataframe thead th {\n",
       "        text-align: right;\n",
       "    }\n",
       "</style>\n",
       "<table border=\"1\" class=\"dataframe\">\n",
       "  <thead>\n",
       "    <tr style=\"text-align: right;\">\n",
       "      <th></th>\n",
       "      <th>Name</th>\n",
       "      <th>Games Played</th>\n",
       "      <th>Minutes Played</th>\n",
       "      <th>Points Per Game</th>\n",
       "      <th>Field Goals Made</th>\n",
       "      <th>Field Goal Attempts</th>\n",
       "      <th>Field Goal Percent</th>\n",
       "      <th>3 Point Made</th>\n",
       "      <th>3 Point Attempt</th>\n",
       "      <th>3 Point Percent</th>\n",
       "      <th>...</th>\n",
       "      <th>Free Throw Attempts</th>\n",
       "      <th>Free Throw Percent</th>\n",
       "      <th>Offensive Rebounds</th>\n",
       "      <th>Defensive Rebounds</th>\n",
       "      <th>Rebounds</th>\n",
       "      <th>Assists</th>\n",
       "      <th>Steals</th>\n",
       "      <th>Blocks</th>\n",
       "      <th>Turnovers</th>\n",
       "      <th>TARGET_5Yrs</th>\n",
       "    </tr>\n",
       "  </thead>\n",
       "  <tbody>\n",
       "    <tr>\n",
       "      <th>0</th>\n",
       "      <td>Brandon Ingram</td>\n",
       "      <td>36</td>\n",
       "      <td>27.4</td>\n",
       "      <td>7.4</td>\n",
       "      <td>2.6</td>\n",
       "      <td>7.6</td>\n",
       "      <td>34.7</td>\n",
       "      <td>0.5</td>\n",
       "      <td>2.1</td>\n",
       "      <td>25.0</td>\n",
       "      <td>...</td>\n",
       "      <td>2.3</td>\n",
       "      <td>69.9</td>\n",
       "      <td>0.7</td>\n",
       "      <td>3.4</td>\n",
       "      <td>4.1</td>\n",
       "      <td>1.9</td>\n",
       "      <td>0.4</td>\n",
       "      <td>0.4</td>\n",
       "      <td>1.3</td>\n",
       "      <td>0</td>\n",
       "    </tr>\n",
       "    <tr>\n",
       "      <th>1</th>\n",
       "      <td>Andrew Harrison</td>\n",
       "      <td>35</td>\n",
       "      <td>26.9</td>\n",
       "      <td>7.2</td>\n",
       "      <td>2.0</td>\n",
       "      <td>6.7</td>\n",
       "      <td>29.6</td>\n",
       "      <td>0.7</td>\n",
       "      <td>2.8</td>\n",
       "      <td>23.5</td>\n",
       "      <td>...</td>\n",
       "      <td>3.4</td>\n",
       "      <td>76.5</td>\n",
       "      <td>0.5</td>\n",
       "      <td>2.0</td>\n",
       "      <td>2.4</td>\n",
       "      <td>3.7</td>\n",
       "      <td>1.1</td>\n",
       "      <td>0.5</td>\n",
       "      <td>1.6</td>\n",
       "      <td>0</td>\n",
       "    </tr>\n",
       "    <tr>\n",
       "      <th>2</th>\n",
       "      <td>JaKarr Sampson</td>\n",
       "      <td>74</td>\n",
       "      <td>15.3</td>\n",
       "      <td>5.2</td>\n",
       "      <td>2.0</td>\n",
       "      <td>4.7</td>\n",
       "      <td>42.2</td>\n",
       "      <td>0.4</td>\n",
       "      <td>1.7</td>\n",
       "      <td>24.4</td>\n",
       "      <td>...</td>\n",
       "      <td>1.3</td>\n",
       "      <td>67.0</td>\n",
       "      <td>0.5</td>\n",
       "      <td>1.7</td>\n",
       "      <td>2.2</td>\n",
       "      <td>1.0</td>\n",
       "      <td>0.5</td>\n",
       "      <td>0.3</td>\n",
       "      <td>1.0</td>\n",
       "      <td>0</td>\n",
       "    </tr>\n",
       "    <tr>\n",
       "      <th>3</th>\n",
       "      <td>Malik Sealy</td>\n",
       "      <td>58</td>\n",
       "      <td>11.6</td>\n",
       "      <td>5.7</td>\n",
       "      <td>2.3</td>\n",
       "      <td>5.5</td>\n",
       "      <td>42.6</td>\n",
       "      <td>0.1</td>\n",
       "      <td>0.5</td>\n",
       "      <td>22.6</td>\n",
       "      <td>...</td>\n",
       "      <td>1.3</td>\n",
       "      <td>68.9</td>\n",
       "      <td>1.0</td>\n",
       "      <td>0.9</td>\n",
       "      <td>1.9</td>\n",
       "      <td>0.8</td>\n",
       "      <td>0.6</td>\n",
       "      <td>0.1</td>\n",
       "      <td>1.0</td>\n",
       "      <td>1</td>\n",
       "    </tr>\n",
       "    <tr>\n",
       "      <th>4</th>\n",
       "      <td>Matt Geiger</td>\n",
       "      <td>48</td>\n",
       "      <td>11.5</td>\n",
       "      <td>4.5</td>\n",
       "      <td>1.6</td>\n",
       "      <td>3.0</td>\n",
       "      <td>52.4</td>\n",
       "      <td>0.0</td>\n",
       "      <td>0.1</td>\n",
       "      <td>0.0</td>\n",
       "      <td>...</td>\n",
       "      <td>1.9</td>\n",
       "      <td>67.4</td>\n",
       "      <td>1.0</td>\n",
       "      <td>1.5</td>\n",
       "      <td>2.5</td>\n",
       "      <td>0.3</td>\n",
       "      <td>0.3</td>\n",
       "      <td>0.4</td>\n",
       "      <td>0.8</td>\n",
       "      <td>1</td>\n",
       "    </tr>\n",
       "  </tbody>\n",
       "</table>\n",
       "<p>5 rows × 21 columns</p>\n",
       "</div>"
      ],
      "text/plain": [
       "              Name  Games Played  Minutes Played  Points Per Game  \\\n",
       "0   Brandon Ingram            36            27.4              7.4   \n",
       "1  Andrew Harrison            35            26.9              7.2   \n",
       "2   JaKarr Sampson            74            15.3              5.2   \n",
       "3      Malik Sealy            58            11.6              5.7   \n",
       "4      Matt Geiger            48            11.5              4.5   \n",
       "\n",
       "   Field Goals Made  Field Goal Attempts  Field Goal Percent  3 Point Made  \\\n",
       "0               2.6                  7.6                34.7           0.5   \n",
       "1               2.0                  6.7                29.6           0.7   \n",
       "2               2.0                  4.7                42.2           0.4   \n",
       "3               2.3                  5.5                42.6           0.1   \n",
       "4               1.6                  3.0                52.4           0.0   \n",
       "\n",
       "   3 Point Attempt  3 Point Percent  ...  Free Throw Attempts  \\\n",
       "0              2.1             25.0  ...                  2.3   \n",
       "1              2.8             23.5  ...                  3.4   \n",
       "2              1.7             24.4  ...                  1.3   \n",
       "3              0.5             22.6  ...                  1.3   \n",
       "4              0.1              0.0  ...                  1.9   \n",
       "\n",
       "   Free Throw Percent  Offensive Rebounds  Defensive Rebounds  Rebounds  \\\n",
       "0                69.9                 0.7                 3.4       4.1   \n",
       "1                76.5                 0.5                 2.0       2.4   \n",
       "2                67.0                 0.5                 1.7       2.2   \n",
       "3                68.9                 1.0                 0.9       1.9   \n",
       "4                67.4                 1.0                 1.5       2.5   \n",
       "\n",
       "   Assists  Steals  Blocks  Turnovers  TARGET_5Yrs  \n",
       "0      1.9     0.4     0.4        1.3            0  \n",
       "1      3.7     1.1     0.5        1.6            0  \n",
       "2      1.0     0.5     0.3        1.0            0  \n",
       "3      0.8     0.6     0.1        1.0            1  \n",
       "4      0.3     0.3     0.4        0.8            1  \n",
       "\n",
       "[5 rows x 21 columns]"
      ]
     },
     "execution_count": 3,
     "metadata": {},
     "output_type": "execute_result"
    }
   ],
   "source": [
    "df.head() #To preview the First Five rows"
   ]
  },
  {
   "cell_type": "code",
   "execution_count": 4,
   "id": "e022ac2d",
   "metadata": {
    "scrolled": true
   },
   "outputs": [
    {
     "data": {
      "text/html": [
       "<div>\n",
       "<style scoped>\n",
       "    .dataframe tbody tr th:only-of-type {\n",
       "        vertical-align: middle;\n",
       "    }\n",
       "\n",
       "    .dataframe tbody tr th {\n",
       "        vertical-align: top;\n",
       "    }\n",
       "\n",
       "    .dataframe thead th {\n",
       "        text-align: right;\n",
       "    }\n",
       "</style>\n",
       "<table border=\"1\" class=\"dataframe\">\n",
       "  <thead>\n",
       "    <tr style=\"text-align: right;\">\n",
       "      <th></th>\n",
       "      <th>TARGET_5Yrs</th>\n",
       "    </tr>\n",
       "  </thead>\n",
       "  <tbody>\n",
       "    <tr>\n",
       "      <th>Games Played</th>\n",
       "      <td>0.396833</td>\n",
       "    </tr>\n",
       "    <tr>\n",
       "      <th>Minutes Played</th>\n",
       "      <td>0.317805</td>\n",
       "    </tr>\n",
       "    <tr>\n",
       "      <th>Points Per Game</th>\n",
       "      <td>0.315981</td>\n",
       "    </tr>\n",
       "    <tr>\n",
       "      <th>Field Goals Made</th>\n",
       "      <td>0.317594</td>\n",
       "    </tr>\n",
       "    <tr>\n",
       "      <th>Field Goal Attempts</th>\n",
       "      <td>0.292660</td>\n",
       "    </tr>\n",
       "    <tr>\n",
       "      <th>Field Goal Percent</th>\n",
       "      <td>0.227134</td>\n",
       "    </tr>\n",
       "    <tr>\n",
       "      <th>3 Point Made</th>\n",
       "      <td>0.036619</td>\n",
       "    </tr>\n",
       "    <tr>\n",
       "      <th>3 Point Attempt</th>\n",
       "      <td>0.018110</td>\n",
       "    </tr>\n",
       "    <tr>\n",
       "      <th>3 Point Percent</th>\n",
       "      <td>-0.003411</td>\n",
       "    </tr>\n",
       "    <tr>\n",
       "      <th>Free Throw Made</th>\n",
       "      <td>0.296841</td>\n",
       "    </tr>\n",
       "    <tr>\n",
       "      <th>Free Throw Attempts</th>\n",
       "      <td>0.296089</td>\n",
       "    </tr>\n",
       "    <tr>\n",
       "      <th>Free Throw Percent</th>\n",
       "      <td>0.106706</td>\n",
       "    </tr>\n",
       "    <tr>\n",
       "      <th>Offensive Rebounds</th>\n",
       "      <td>0.293307</td>\n",
       "    </tr>\n",
       "    <tr>\n",
       "      <th>Defensive Rebounds</th>\n",
       "      <td>0.284677</td>\n",
       "    </tr>\n",
       "    <tr>\n",
       "      <th>Rebounds</th>\n",
       "      <td>0.299406</td>\n",
       "    </tr>\n",
       "    <tr>\n",
       "      <th>Assists</th>\n",
       "      <td>0.175353</td>\n",
       "    </tr>\n",
       "    <tr>\n",
       "      <th>Steals</th>\n",
       "      <td>0.229811</td>\n",
       "    </tr>\n",
       "    <tr>\n",
       "      <th>Blocks</th>\n",
       "      <td>0.210114</td>\n",
       "    </tr>\n",
       "    <tr>\n",
       "      <th>Turnovers</th>\n",
       "      <td>0.272348</td>\n",
       "    </tr>\n",
       "    <tr>\n",
       "      <th>TARGET_5Yrs</th>\n",
       "      <td>1.000000</td>\n",
       "    </tr>\n",
       "  </tbody>\n",
       "</table>\n",
       "</div>"
      ],
      "text/plain": [
       "                     TARGET_5Yrs\n",
       "Games Played            0.396833\n",
       "Minutes Played          0.317805\n",
       "Points Per Game         0.315981\n",
       "Field Goals Made        0.317594\n",
       "Field Goal Attempts     0.292660\n",
       "Field Goal Percent      0.227134\n",
       "3 Point Made            0.036619\n",
       "3 Point Attempt         0.018110\n",
       "3 Point Percent        -0.003411\n",
       "Free Throw Made         0.296841\n",
       "Free Throw Attempts     0.296089\n",
       "Free Throw Percent      0.106706\n",
       "Offensive Rebounds      0.293307\n",
       "Defensive Rebounds      0.284677\n",
       "Rebounds                0.299406\n",
       "Assists                 0.175353\n",
       "Steals                  0.229811\n",
       "Blocks                  0.210114\n",
       "Turnovers               0.272348\n",
       "TARGET_5Yrs             1.000000"
      ]
     },
     "execution_count": 4,
     "metadata": {},
     "output_type": "execute_result"
    }
   ],
   "source": [
    "#df.corr()A method to find the correlation of each column in the df for good feature selection\n",
    "df.corr()[['TARGET_5Yrs']]"
   ]
  },
  {
   "cell_type": "code",
   "execution_count": 5,
   "id": "bc17290a",
   "metadata": {},
   "outputs": [
    {
     "data": {
      "text/html": [
       "<div>\n",
       "<style scoped>\n",
       "    .dataframe tbody tr th:only-of-type {\n",
       "        vertical-align: middle;\n",
       "    }\n",
       "\n",
       "    .dataframe tbody tr th {\n",
       "        vertical-align: top;\n",
       "    }\n",
       "\n",
       "    .dataframe thead th {\n",
       "        text-align: right;\n",
       "    }\n",
       "</style>\n",
       "<table border=\"1\" class=\"dataframe\">\n",
       "  <thead>\n",
       "    <tr style=\"text-align: right;\">\n",
       "      <th></th>\n",
       "      <th>TARGET_5Yrs</th>\n",
       "    </tr>\n",
       "  </thead>\n",
       "  <tbody>\n",
       "    <tr>\n",
       "      <th>Games Played</th>\n",
       "      <td>True</td>\n",
       "    </tr>\n",
       "    <tr>\n",
       "      <th>Minutes Played</th>\n",
       "      <td>True</td>\n",
       "    </tr>\n",
       "    <tr>\n",
       "      <th>Points Per Game</th>\n",
       "      <td>True</td>\n",
       "    </tr>\n",
       "    <tr>\n",
       "      <th>Field Goals Made</th>\n",
       "      <td>True</td>\n",
       "    </tr>\n",
       "    <tr>\n",
       "      <th>Field Goal Attempts</th>\n",
       "      <td>True</td>\n",
       "    </tr>\n",
       "    <tr>\n",
       "      <th>Field Goal Percent</th>\n",
       "      <td>False</td>\n",
       "    </tr>\n",
       "    <tr>\n",
       "      <th>3 Point Made</th>\n",
       "      <td>False</td>\n",
       "    </tr>\n",
       "    <tr>\n",
       "      <th>3 Point Attempt</th>\n",
       "      <td>False</td>\n",
       "    </tr>\n",
       "    <tr>\n",
       "      <th>3 Point Percent</th>\n",
       "      <td>False</td>\n",
       "    </tr>\n",
       "    <tr>\n",
       "      <th>Free Throw Made</th>\n",
       "      <td>True</td>\n",
       "    </tr>\n",
       "    <tr>\n",
       "      <th>Free Throw Attempts</th>\n",
       "      <td>True</td>\n",
       "    </tr>\n",
       "    <tr>\n",
       "      <th>Free Throw Percent</th>\n",
       "      <td>False</td>\n",
       "    </tr>\n",
       "    <tr>\n",
       "      <th>Offensive Rebounds</th>\n",
       "      <td>True</td>\n",
       "    </tr>\n",
       "    <tr>\n",
       "      <th>Defensive Rebounds</th>\n",
       "      <td>True</td>\n",
       "    </tr>\n",
       "    <tr>\n",
       "      <th>Rebounds</th>\n",
       "      <td>True</td>\n",
       "    </tr>\n",
       "    <tr>\n",
       "      <th>Assists</th>\n",
       "      <td>False</td>\n",
       "    </tr>\n",
       "    <tr>\n",
       "      <th>Steals</th>\n",
       "      <td>False</td>\n",
       "    </tr>\n",
       "    <tr>\n",
       "      <th>Blocks</th>\n",
       "      <td>False</td>\n",
       "    </tr>\n",
       "    <tr>\n",
       "      <th>Turnovers</th>\n",
       "      <td>True</td>\n",
       "    </tr>\n",
       "    <tr>\n",
       "      <th>TARGET_5Yrs</th>\n",
       "      <td>True</td>\n",
       "    </tr>\n",
       "  </tbody>\n",
       "</table>\n",
       "</div>"
      ],
      "text/plain": [
       "                     TARGET_5Yrs\n",
       "Games Played                True\n",
       "Minutes Played              True\n",
       "Points Per Game             True\n",
       "Field Goals Made            True\n",
       "Field Goal Attempts         True\n",
       "Field Goal Percent         False\n",
       "3 Point Made               False\n",
       "3 Point Attempt            False\n",
       "3 Point Percent            False\n",
       "Free Throw Made             True\n",
       "Free Throw Attempts         True\n",
       "Free Throw Percent         False\n",
       "Offensive Rebounds          True\n",
       "Defensive Rebounds          True\n",
       "Rebounds                    True\n",
       "Assists                    False\n",
       "Steals                     False\n",
       "Blocks                     False\n",
       "Turnovers                   True\n",
       "TARGET_5Yrs                 True"
      ]
     },
     "execution_count": 5,
     "metadata": {},
     "output_type": "execute_result"
    }
   ],
   "source": [
    "df.corr()[['TARGET_5Yrs']]>0.25"
   ]
  },
  {
   "cell_type": "code",
   "execution_count": 6,
   "id": "a7e23cc5",
   "metadata": {},
   "outputs": [],
   "source": [
    "df = df.drop(['Name'],axis=1) #Drop the column called 'Name'"
   ]
  },
  {
   "cell_type": "code",
   "execution_count": 7,
   "id": "438b80f5",
   "metadata": {},
   "outputs": [],
   "source": [
    "X = df.iloc[:,[0,1,2,3,4,9,10,12,13,14,18]].values #Input variables\n",
    "y = df.iloc[:,-1].values #Target variable"
   ]
  },
  {
   "cell_type": "code",
   "execution_count": null,
   "id": "1d85f409",
   "metadata": {},
   "outputs": [],
   "source": [
    "#USING LOGISTIC REGRESSION-------------------------------------------------------"
   ]
  },
  {
   "cell_type": "code",
   "execution_count": 8,
   "id": "91e565a4",
   "metadata": {},
   "outputs": [],
   "source": [
    "scaler = StandardScaler() #Sckikit-learn model for Data Normalization"
   ]
  },
  {
   "cell_type": "code",
   "execution_count": 9,
   "id": "d8b49f83",
   "metadata": {},
   "outputs": [],
   "source": [
    "#Split data into training and test sets:\n",
    "X_train, X_test, y_train, y_test = train_test_split(X,y, test_size=1/3,\n",
    "                                                   random_state=0)"
   ]
  },
  {
   "cell_type": "code",
   "execution_count": 10,
   "id": "1fcbcc08",
   "metadata": {},
   "outputs": [],
   "source": [
    "scaled_X_train = scaler.fit_transform(X_train)\n",
    "scaled_X_test = scaler.transform(X_test)"
   ]
  },
  {
   "cell_type": "code",
   "execution_count": 11,
   "id": "73355d38",
   "metadata": {},
   "outputs": [
    {
     "data": {
      "text/plain": [
       "LogisticRegression()"
      ]
     },
     "execution_count": 11,
     "metadata": {},
     "output_type": "execute_result"
    }
   ],
   "source": [
    "logre = LogisticRegression()\n",
    "logre.fit(scaled_X_train,y_train)"
   ]
  },
  {
   "cell_type": "code",
   "execution_count": 12,
   "id": "9d8e4f60",
   "metadata": {},
   "outputs": [
    {
     "name": "stdout",
     "output_type": "stream",
     "text": [
      "Number of mislabeled points out of a total 447 points : 124\n"
     ]
    }
   ],
   "source": [
    "print('Number of mislabeled points out of a total %d points : %d'%(scaled_X_test.shape[0],(y_test!= logre.predict(scaled_X_test)).sum()))"
   ]
  },
  {
   "cell_type": "code",
   "execution_count": 17,
   "id": "6028d912",
   "metadata": {},
   "outputs": [
    {
     "name": "stdout",
     "output_type": "stream",
     "text": [
      "The accuracy score is: 72.0 %\n"
     ]
    }
   ],
   "source": [
    "print(\"The accuracy score is:\",accuracy_score(y_test,logre.predict(scaled_X_test)).round(2)*100,'%')"
   ]
  },
  {
   "cell_type": "code",
   "execution_count": 18,
   "id": "1dad3f7f",
   "metadata": {},
   "outputs": [
    {
     "data": {
      "text/plain": [
       "Text(0, 0.5, 'y')"
      ]
     },
     "execution_count": 18,
     "metadata": {},
     "output_type": "execute_result"
    },
    {
     "data": {
      "image/png": "[encoded data removed]",
      "text/plain": [
       "<Figure size 432x288 with 1 Axes>"
      ]
     },
     "metadata": {
      "needs_background": "light"
     },
     "output_type": "display_data"
    }
   ],
   "source": [
    "#Visualization of The Predictions\n",
    "fig1, ax1 = plt.subplots()\n",
    "ax1.scatter(scaled_X_test[:,0],y_test,color='blue')\n",
    "ax1.scatter(scaled_X_test[:,0], logre.predict(scaled_X_test),color='red',marker='*')\n",
    "ax1.set_xlabel('X')\n",
    "ax1.set_ylabel('y')"
   ]
  },
  {
   "cell_type": "code",
   "execution_count": null,
   "id": "178ffae8",
   "metadata": {},
   "outputs": [],
   "source": [
    "#USING NAIVE BAYES CLASSIFICATION---------------------------------------------------"
   ]
  },
  {
   "cell_type": "code",
   "execution_count": 19,
   "id": "d193b465",
   "metadata": {},
   "outputs": [
    {
     "data": {
      "text/plain": [
       "GaussianNB()"
      ]
     },
     "execution_count": 19,
     "metadata": {},
     "output_type": "execute_result"
    }
   ],
   "source": [
    "gnb = GaussianNB()\n",
    "gnb. fit(scaled_X_train,y_train)"
   ]
  },
  {
   "cell_type": "code",
   "execution_count": 21,
   "id": "8ed6dea7",
   "metadata": {},
   "outputs": [
    {
     "name": "stdout",
     "output_type": "stream",
     "text": [
      "Number of mislabeled points out of a total 447 points : 142\n"
     ]
    }
   ],
   "source": [
    "print('Number of mislabeled points out of a total %d points : %d'%(scaled_X_test.shape[0],(y_test!= gnb.predict(scaled_X_test)).sum()))"
   ]
  },
  {
   "cell_type": "code",
   "execution_count": 22,
   "id": "30f7951c",
   "metadata": {},
   "outputs": [
    {
     "name": "stdout",
     "output_type": "stream",
     "text": [
      "The accuracy score is: 68.0 %\n"
     ]
    }
   ],
   "source": [
    "print(\"The accuracy score is:\",accuracy_score(y_test,gnb.predict(scaled_X_test)).round(2)*100,'%')"
   ]
  },
  {
   "cell_type": "code",
   "execution_count": 23,
   "id": "5ffc910d",
   "metadata": {},
   "outputs": [
    {
     "data": {
      "text/plain": [
       "Text(0, 0.5, 'y')"
      ]
     },
     "execution_count": 23,
     "metadata": {},
     "output_type": "execute_result"
    },
    {
     "data": {
      "image/png": "[encoded data removed]",
      "text/plain": [
       "<Figure size 432x288 with 1 Axes>"
      ]
     },
     "metadata": {
      "needs_background": "light"
     },
     "output_type": "display_data"
    }
   ],
   "source": [
    "#Visualisation of the Predictions\n",
    "fig1, ax1 = plt.subplots()\n",
    "ax1.scatter(scaled_X_test[:,0],y_test,color='blue')\n",
    "ax1.scatter(scaled_X_test[:,0], gnb.predict(scaled_X_test),color='red',marker='*')\n",
    "ax1.set_xlabel('X')\n",
    "ax1.set_ylabel('y')"
   ]
  },
  {
   "cell_type": "code",
   "execution_count": 24,
   "id": "7b26a89a",
   "metadata": {
    "scrolled": true
   },
   "outputs": [],
   "source": [
    "#CONSTRUCTING NEURAL NETWORKS--------------------------------------------"
   ]
  },
  {
   "cell_type": "code",
   "execution_count": 25,
   "id": "ba93aa8f",
   "metadata": {},
   "outputs": [],
   "source": [
    "mlp = MLPClassifier(hidden_layer_sizes=(10,10,), activation=\"logistic\",\n",
    "                   random_state=0, max_iter=2000)"
   ]
  },
  {
   "cell_type": "code",
   "execution_count": 27,
   "id": "73331aab",
   "metadata": {
    "scrolled": true
   },
   "outputs": [
    {
     "data": {
      "text/plain": [
       "MLPClassifier(activation='logistic', hidden_layer_sizes=(10, 10), max_iter=2000,\n",
       "              random_state=0)"
      ]
     },
     "execution_count": 27,
     "metadata": {},
     "output_type": "execute_result"
    }
   ],
   "source": [
    "mlp.fit(scaled_X_train,y_train)"
   ]
  },
  {
   "cell_type": "code",
   "execution_count": 31,
   "id": "cc7d5ebe",
   "metadata": {},
   "outputs": [
    {
     "name": "stdout",
     "output_type": "stream",
     "text": [
      "Number of mislabeled points out of a total 447 points : 121\n"
     ]
    }
   ],
   "source": [
    "print('Number of mislabeled points out of a total %d points : %d'%(scaled_X_test.shape[0],(y_test!=mlp.predict(scaled_X_test)).sum()))"
   ]
  },
  {
   "cell_type": "code",
   "execution_count": 32,
   "id": "663a5f95",
   "metadata": {},
   "outputs": [
    {
     "name": "stdout",
     "output_type": "stream",
     "text": [
      "The Accuracy score is:  73.0 %\n"
     ]
    }
   ],
   "source": [
    "print('The Accuracy score is: ',mlp.score(scaled_X_test,y_test).round(2)*100,'%')"
   ]
  },
  {
   "cell_type": "code",
   "execution_count": 33,
   "id": "47f47a8c",
   "metadata": {},
   "outputs": [
    {
     "data": {
      "text/plain": [
       "Text(0, 0.5, 'y')"
      ]
     },
     "execution_count": 33,
     "metadata": {},
     "output_type": "execute_result"
    },
    {
     "data": {
      "image/png": "[encoded data removed]",
      "text/plain": [
       "<Figure size 432x288 with 1 Axes>"
      ]
     },
     "metadata": {
      "needs_background": "light"
     },
     "output_type": "display_data"
    }
   ],
   "source": [
    "#Visualization of The Predictions\n",
    "fig1, ax1 = plt.subplots()\n",
    "ax1.scatter(scaled_X_test[:,0],y_test,color='blue')\n",
    "ax1.scatter(scaled_X_test[:,0], mlp.predict(scaled_X_test),color='red',marker='*')\n",
    "ax1.set_xlabel('X')\n",
    "ax1.set_ylabel('y')"
   ]
  }
 ],
 "metadata": {
  "kernelspec": {
   "display_name": "Python 3 (ipykernel)",
   "language": "python",
   "name": "python3"
  },
  "language_info": {
   "codemirror_mode": {
    "name": "ipython",
    "version": 3
   },
   "file_extension": ".py",
   "mimetype": "text/x-python",
   "name": "python",
   "nbconvert_exporter": "python",
   "pygments_lexer": "ipython3",
   "version": "3.9.12"
  }
 },
 "nbformat": 4,
 "nbformat_minor": 5
}
